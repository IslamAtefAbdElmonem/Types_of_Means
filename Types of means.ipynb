{
 "cells": [
  {
   "cell_type": "markdown",
   "id": "cb1fe1fc",
   "metadata": {},
   "source": [
    "# Arithmetic mean\n",
    "\n",
    "The arithmetic mean is the most common type of mean and is calculated by summing up a set of values and dividing the sum by the total number of values. It is used to find the average of a set of numbers. The arithmetic mean is suitable for situations where the values are numerical and evenly distributed. It is commonly used to represent the center of a data set and provide a general overview of the data."
   ]
  },
  {
   "cell_type": "code",
   "execution_count": 1,
   "id": "78b0fcbb",
   "metadata": {},
   "outputs": [
    {
     "name": "stdout",
     "output_type": "stream",
     "text": [
      "Arithmetic Mean: 3.0\n"
     ]
    }
   ],
   "source": [
    "def arithmetic_mean(numbers):\n",
    "    total = sum(numbers)\n",
    "    mean = total / len(numbers)\n",
    "    return mean\n",
    "\n",
    "data = [1, 2, 3, 4, 5]\n",
    "result = arithmetic_mean(data)\n",
    "print(\"Arithmetic Mean:\", result)"
   ]
  },
  {
   "cell_type": "markdown",
   "id": "0213072d",
   "metadata": {},
   "source": [
    "# Geometric mean\n",
    "The geometric mean is calculated by taking the nth root of the product of n values. It is mainly used when dealing with quantities that have a multiplicative relationship or exponential growth, such as growth rates, investment returns, or ratios. The geometric mean is helpful in situations where relative changes are more important than absolute changes. It is commonly used in finance, biology, and other fields where exponential growth or compounding is involved."
   ]
  },
  {
   "cell_type": "code",
   "execution_count": 3,
   "id": "a31aef22",
   "metadata": {},
   "outputs": [
    {
     "name": "stdout",
     "output_type": "stream",
     "text": [
      "Geometric Mean: 8.0\n"
     ]
    }
   ],
   "source": [
    "import math\n",
    "\n",
    "def geometric_mean(numbers):\n",
    "    product = 1\n",
    "    for num in numbers:\n",
    "        product *= num\n",
    "    mean = math.pow(product, 1 / len(numbers))\n",
    "    return mean\n",
    "\n",
    "data = [2, 4, 8, 16, 32]\n",
    "result = geometric_mean(data)\n",
    "print(\"Geometric Mean:\", round(result,2))"
   ]
  },
  {
   "cell_type": "markdown",
   "id": "b648af11",
   "metadata": {},
   "source": [
    "# Harmonic mean\n",
    "\n",
    "The harmonic mean is calculated by dividing the total number of values by the sum of their reciprocals. It is used primarily when dealing with rates, ratios, or averages of rates. The harmonic mean gives more weight to smaller values in the data set and is useful when you want to calculate an average that takes into account the impact of outliers or extreme values. It is commonly used in fields such as physics, engineering, and economics."
   ]
  },
  {
   "cell_type": "code",
   "execution_count": 5,
   "id": "6c1e1d61",
   "metadata": {},
   "outputs": [
    {
     "name": "stdout",
     "output_type": "stream",
     "text": [
      "Harmonic Mean: 5.16\n"
     ]
    }
   ],
   "source": [
    "def harmonic_mean(numbers):\n",
    "    total = 0\n",
    "    for num in numbers:\n",
    "        total += 1 / num\n",
    "    mean = len(numbers) / total\n",
    "    return mean\n",
    "\n",
    "data = [2, 4, 8, 16, 32]\n",
    "result = harmonic_mean(data)\n",
    "print(\"Harmonic Mean:\", round(result,2))"
   ]
  },
  {
   "cell_type": "code",
   "execution_count": null,
   "id": "f2042ab3",
   "metadata": {},
   "outputs": [],
   "source": []
  }
 ],
 "metadata": {
  "kernelspec": {
   "display_name": "Python 3 (ipykernel)",
   "language": "python",
   "name": "python3"
  },
  "language_info": {
   "codemirror_mode": {
    "name": "ipython",
    "version": 3
   },
   "file_extension": ".py",
   "mimetype": "text/x-python",
   "name": "python",
   "nbconvert_exporter": "python",
   "pygments_lexer": "ipython3",
   "version": "3.10.9"
  }
 },
 "nbformat": 4,
 "nbformat_minor": 5
}
